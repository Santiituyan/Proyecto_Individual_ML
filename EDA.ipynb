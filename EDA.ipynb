{
 "cells": [
  {
   "cell_type": "code",
   "execution_count": null,
   "metadata": {},
   "outputs": [],
   "source": [
    "import pandas as pd\n",
    "import numpy as np\n",
    "import matplotlib.pylab as plt\n",
    "import seaborn as sns"
   ]
  },
  {
   "cell_type": "code",
   "execution_count": null,
   "metadata": {},
   "outputs": [],
   "source": [
    "games=pd.read_csv(\"steam_games.csv\")"
   ]
  },
  {
   "cell_type": "markdown",
   "metadata": {},
   "source": [
    "data understanding"
   ]
  },
  {
   "cell_type": "code",
   "execution_count": null,
   "metadata": {},
   "outputs": [],
   "source": [
    "games.head()"
   ]
  },
  {
   "cell_type": "code",
   "execution_count": null,
   "metadata": {},
   "outputs": [],
   "source": [
    "games.tail()"
   ]
  },
  {
   "cell_type": "code",
   "execution_count": null,
   "metadata": {},
   "outputs": [],
   "source": [
    "games.shape"
   ]
  },
  {
   "cell_type": "code",
   "execution_count": null,
   "metadata": {},
   "outputs": [],
   "source": [
    "games.describe()"
   ]
  },
  {
   "cell_type": "code",
   "execution_count": null,
   "metadata": {},
   "outputs": [],
   "source": [
    "games.info()"
   ]
  },
  {
   "cell_type": "markdown",
   "metadata": {},
   "source": [
    "Data Preparation"
   ]
  },
  {
   "cell_type": "code",
   "execution_count": null,
   "metadata": {},
   "outputs": [],
   "source": [
    "#ELIMINAR COLUMNAS QUE NO SIRVEN PARA EL ANALISIS\n",
    "#la columna title contiene la misma informacion que app\n",
    "games.drop(columns=[\"title\"], inplace=True)\n",
    "#la informacion en las url no es importante\n",
    "games.drop(columns=[\"url\", \"reviews_url\",\"tags\"], inplace=True)\n",
    "#eliminar las filas que tienen mas de 4 nan\n",
    "games.dropna(thresh=4, inplace=True)\n",
    "#la columna price no se usa para nada en esta ocasion\n",
    "games.drop(columns=[\"price\"], inplace=True)"
   ]
  },
  {
   "cell_type": "code",
   "execution_count": null,
   "metadata": {},
   "outputs": [],
   "source": [
    "#CAMBIAR LOS DATOS DENTRO DE LAS COLUMNAS\n",
    "#cambio la columna de id a string\n",
    "games[\"id\"]=games[\"id\"].astype(str)"
   ]
  },
  {
   "cell_type": "code",
   "execution_count": null,
   "metadata": {},
   "outputs": [],
   "source": [
    "#la columna de date time solo debe tener fechas y no horas\n",
    "games['release_date'] = games['release_date'].dt.date"
   ]
  },
  {
   "cell_type": "code",
   "execution_count": null,
   "metadata": {},
   "outputs": [],
   "source": [
    "#ELIMINAR LA PUNTUACION\n",
    "import string\n",
    "games[\"publisher\"] = games[\"publisher\"].str.replace('[{}]'.format(string.punctuation), '',regex=True)\n",
    "games[\"app_name\"] = games[\"app_name\"].str.replace('[{}]'.format(string.punctuation), '',regex=True)\n",
    "games[\"developer\"] = games[\"developer\"].str.replace('[{}]'.format(string.punctuation), '',regex=True)"
   ]
  },
  {
   "cell_type": "code",
   "execution_count": null,
   "metadata": {},
   "outputs": [],
   "source": [
    "games = games.drop_duplicates(keep=\"first\")"
   ]
  },
  {
   "cell_type": "code",
   "execution_count": null,
   "metadata": {},
   "outputs": [],
   "source": [
    "#completar los nan\n",
    "\n",
    "games[\"genres\"].fillna((games[\"genres\"].mode()[0]),inplace=True)\n",
    "games[\"release_date\"].fillna((games[\"release_date\"].mode()[0]),inplace=True)\n",
    "games[\"publisher\"].fillna(method=\"ffill\",inplace=True)\n",
    "games[\"specs\"].fillna((games[\"specs\"].mode()[0]),inplace=True)\n",
    "games[\"id\"].fillna(method=\"ffill\",inplace=True)\n",
    "games[\"developer\"].fillna((games[\"developer\"].mode()[0]),inplace=True)"
   ]
  },
  {
   "cell_type": "code",
   "execution_count": null,
   "metadata": {},
   "outputs": [],
   "source": [
    "#CAMBIAR LAS COLUMNAS DE GENERO Y SPECS\n",
    "#definir una funcion para cambiar a listas los datos de las columnas\n",
    "import ast\n",
    "def tolist(lst):\n",
    "    if isinstance(lst, str) :\n",
    "        lst = lst.replace(\"0's\",'0s')\n",
    "        lst = ast.literal_eval(lst)\n",
    "\n",
    "    return list(lst)"
   ]
  },
  {
   "cell_type": "code",
   "execution_count": null,
   "metadata": {},
   "outputs": [],
   "source": [
    "#convertir a listas\n",
    "games['genres'] = games['genres'].apply(lambda x : tolist(x))\n",
    "games['specs'] = games['specs'].apply(lambda x : tolist(x))"
   ]
  },
  {
   "cell_type": "code",
   "execution_count": null,
   "metadata": {},
   "outputs": [],
   "source": [
    "# crear las columnas binarias de los géneros\n",
    "def create_genre_columns(dataframe):\n",
    "    genres_list = set()\n",
    "\n",
    "    for genres in dataframe['genres']:\n",
    "        if isinstance(genres, list):\n",
    "            genres_list.update(genres)\n",
    "    \n",
    "    # crea una columna por cada genre en genre_list \n",
    "    for genre in genres_list:\n",
    "        dataframe[\"genre_\" + genre] = dataframe['genres'].apply(lambda x: 1 if genre in x else 0)\n",
    "    \n",
    "    return dataframe\n",
    "\n",
    "create_genre_columns(games)\n"
   ]
  },
  {
   "cell_type": "code",
   "execution_count": null,
   "metadata": {},
   "outputs": [],
   "source": [
    "# misma funcion para la columna specs\n",
    "def create_specs_columns(dataframe):\n",
    "    specs_list = set()\n",
    "\n",
    "    for specs in dataframe['specs']:\n",
    "        if isinstance(specs, list):\n",
    "            specs_list.update(specs)\n",
    "    \n",
    "    for specs in specs_list:\n",
    "        dataframe[\"specs_\" + specs] = dataframe['specs'].apply(lambda x: 1 if specs in x else 0)\n",
    "    \n",
    "    return dataframe\n",
    "\n",
    "create_specs_columns(games)"
   ]
  },
  {
   "cell_type": "code",
   "execution_count": null,
   "metadata": {},
   "outputs": [],
   "source": [
    "#eliminar las columnas originales\n",
    "games.drop(columns=[\"genres\", \"specs\"], inplace=True)"
   ]
  },
  {
   "cell_type": "code",
   "execution_count": null,
   "metadata": {},
   "outputs": [],
   "source": [
    "#fecha frecuencias\n",
    "ax=games[\"release_date\"].value_counts() \\\n",
    "    .head(10) \\\n",
    "    .plot(kind=\"bar\", title=\"top de fechas con mas lanzamientos\")\n",
    "ax.set_xlabel(\"Fecha de lanzamiento\")\n",
    "ax.set_ylabel(\"cuenta\")"
   ]
  },
  {
   "cell_type": "code",
   "execution_count": null,
   "metadata": {},
   "outputs": [],
   "source": [
    "#developer frecuencias\n",
    "ax=games[\"developer\"].value_counts() \\\n",
    "    .head(10) \\\n",
    "    .plot(kind=\"bar\", title=\"top de developers\")\n",
    "ax.set_xlabel(\"nombre developer\")\n",
    "ax.set_ylabel(\"cuenta\")"
   ]
  },
  {
   "cell_type": "code",
   "execution_count": null,
   "metadata": {},
   "outputs": [],
   "source": [
    "#publisher frecuencias\n",
    "ax=games[\"publisher\"].value_counts() \\\n",
    "    .head(10) \\\n",
    "    .plot(kind=\"bar\", title=\"top de publisher\")\n",
    "ax.set_xlabel(\"nombre publisher\")\n",
    "ax.set_ylabel(\"cuenta\")"
   ]
  }
 ],
 "metadata": {
  "language_info": {
   "name": "python"
  },
  "orig_nbformat": 4
 },
 "nbformat": 4,
 "nbformat_minor": 2
}
